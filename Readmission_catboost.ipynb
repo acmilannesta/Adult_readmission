{
  "nbformat": 4,
  "nbformat_minor": 0,
  "metadata": {
    "colab": {
      "name": "Readmission_catboost.ipynb",
      "version": "0.3.2",
      "provenance": []
    },
    "language_info": {
      "codemirror_mode": {
        "name": "ipython",
        "version": 2
      },
      "file_extension": ".py",
      "mimetype": "text/x-python",
      "name": "python",
      "nbconvert_exporter": "python",
      "pygments_lexer": "ipython2",
      "version": "2.7.6"
    },
    "kernelspec": {
      "name": "python3",
      "display_name": "Python 3"
    },
    "accelerator": "GPU"
  },
  "cells": [
    {
      "metadata": {
        "id": "VXwIonM6F7th",
        "colab_type": "code",
        "colab": {
          "base_uri": "https://localhost:8080/",
          "height": 118
        },
        "outputId": "13e14ffa-46f4-47d1-ae35-fb5b91118b50"
      },
      "cell_type": "code",
      "source": [
        "!git clone https://github.com/acmilannesta/Adult_readmission"
      ],
      "execution_count": 1,
      "outputs": [
        {
          "output_type": "stream",
          "text": [
            "Cloning into 'Adult_readmission'...\n",
            "remote: Enumerating objects: 9, done.\u001b[K\n",
            "remote: Counting objects: 100% (9/9), done.\u001b[K\n",
            "remote: Compressing objects: 100% (9/9), done.\u001b[K\n",
            "remote: Total 9 (delta 3), reused 0 (delta 0), pack-reused 0\u001b[K\n",
            "Unpacking objects: 100% (9/9), done.\n"
          ],
          "name": "stdout"
        }
      ]
    },
    {
      "metadata": {
        "id": "HM0UNy4eGZ-b",
        "colab_type": "code",
        "colab": {}
      },
      "cell_type": "code",
      "source": [
        "!pip install catboost"
      ],
      "execution_count": 0,
      "outputs": []
    },
    {
      "metadata": {
        "id": "Mwws2tm2F5TD",
        "colab_type": "code",
        "colab": {}
      },
      "cell_type": "code",
      "source": [
        "import os,  pandas as pd,  numpy as np, gc\n",
        "from sklearn.metrics import roc_auc_score\n",
        "from sklearn.model_selection import StratifiedKFold\n",
        "from catboost import CatBoostClassifier\n",
        "from hyperopt import fmin, hp, tpe, STATUS_OK, Trials"
      ],
      "execution_count": 0,
      "outputs": []
    },
    {
      "metadata": {
        "id": "kcvTc_KrGgv1",
        "colab_type": "code",
        "colab": {}
      },
      "cell_type": "code",
      "source": [
        "analysis = pd.read_sas('Adult_readmission//combined_vars.sas7bdat', encoding='latin1').drop(['PERSON_ID', 'TRR_ID'], axis=1)\n",
        "X = analysis.drop('CODE_REHOSP', 1)\n",
        "y = analysis['CODE_REHOSP'].replace(2, 0)\n",
        "cat_colidx = [X.columns.get_loc(col) for col in X.columns if X[col].nunique() <= 10]\n"
      ],
      "execution_count": 0,
      "outputs": []
    },
    {
      "metadata": {
        "id": "AeJ9HsYYGlxG",
        "colab_type": "code",
        "colab": {}
      },
      "cell_type": "code",
      "source": [
        "for col in cat_colidx:\n",
        "    if X[X.columns[col]].dtype == 'float64':\n",
        "        X[X.columns[col]] = X[X.columns[col]].fillna(-1).astype(int)\n",
        "    else:\n",
        "        X[X.columns[col]] = X[X.columns[col]].fillna('')"
      ],
      "execution_count": 0,
      "outputs": []
    },
    {
      "metadata": {
        "id": "mSEO3eJlGn8M",
        "colab_type": "code",
        "colab": {}
      },
      "cell_type": "code",
      "source": [
        "cbc_params = {\n",
        "    'max_depth': hp.choice('max_depth', np.arange(2, 11)),\n",
        "    'l2_leaf_reg': hp.uniform('l2_leaf_reg', 0, 100),\n",
        "    'colsample_bylevel': hp.uniform('colsample_bylevel', 0.1, 1),\n",
        "    'subsample': hp.uniform('subsample', 0.1, 1),\n",
        "    'eta': hp.uniform('eta', 0.01, 0.1)\n",
        "}"
      ],
      "execution_count": 0,
      "outputs": []
    },
    {
      "metadata": {
        "id": "-zKHmwGIGtcR",
        "colab_type": "code",
        "colab": {}
      },
      "cell_type": "code",
      "source": [
        "def f_cbc(params):\n",
        "    kfold = StratifiedKFold(5, True, 2019)\n",
        "    auc = np.zeros(kfold.get_n_splits())\n",
        "    cbc_pred = np.zeros(len(X))\n",
        "    cbc = CatBoostClassifier(\n",
        "        **params,\n",
        "        n_estimators=2000,\n",
        "        random_state=2019,\n",
        "        eval_metric='AUC',\n",
        "        cat_features=cat_colidx,\n",
        "        silent=True,\n",
        "        one_hot_max_size=2,\n",
        "        bootstrap_type='Bernoulli',\n",
        "        boosting_type='Plain',\n",
        "        task_type='GPU',\n",
        "    )\n",
        "    for i, (tr_idx, val_idx) in enumerate(kfold.split(X, y)):\n",
        "        clf = cbc.fit(X.iloc[tr_idx], y[tr_idx], use_best_model=True,\n",
        "                       eval_set=[(X.iloc[tr_idx], y[tr_idx]), (X.iloc[val_idx], y[val_idx])],\n",
        "                       early_stopping_rounds=100,\n",
        "                       verbose_eval=False)\n",
        "        cbc_pred[val_idx] = clf.predict_proba(X.iloc[val_idx])[:, 1]\n",
        "        auc[i] = roc_auc_score(y[val_idx], cbc_pred[val_idx])\n",
        "        del clf\n",
        "        gc.collect()\n",
        "        # print(\"Mean AUC(%g|%g): %.5f\" %(i, kfold.get_n_splits(), np.sum(auc)/i))\n",
        "    return {'loss': -np.mean(auc).round(5), 'status': STATUS_OK}\n"
      ],
      "execution_count": 0,
      "outputs": []
    },
    {
      "metadata": {
        "id": "gVx8VCMpHB4A",
        "colab_type": "code",
        "colab": {
          "base_uri": "https://localhost:8080/",
          "height": 34
        },
        "outputId": "203e8d1e-23fb-44ff-bdd9-6c0fb9b9b627"
      },
      "cell_type": "code",
      "source": [
        "trials = Trials()\n",
        "cbc_best = fmin(f_cbc, cbc_params, algo=tpe.suggest, rstate=np.random.RandomState(2019), max_evals=100, trials=trials)"
      ],
      "execution_count": 0,
      "outputs": [
        {
          "output_type": "stream",
          "text": [
            " 15%|█▌        | 15/100 [11:46<1:10:39, 49.88s/it, best loss: -0.69189]"
          ],
          "name": "stdout"
        }
      ]
    }
  ]
}