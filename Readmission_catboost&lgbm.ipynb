{
  "nbformat": 4,
  "nbformat_minor": 0,
  "metadata": {
    "colab": {
      "name": "Readmission_catboost.ipynb",
      "version": "0.3.2",
      "provenance": []
    },
    "language_info": {
      "codemirror_mode": {
        "name": "ipython",
        "version": 2
      },
      "file_extension": ".py",
      "mimetype": "text/x-python",
      "name": "python",
      "nbconvert_exporter": "python",
      "pygments_lexer": "ipython2",
      "version": "2.7.6"
    },
    "kernelspec": {
      "name": "python3",
      "display_name": "Python 3"
    },
    "accelerator": "GPU"
  },
  "cells": [
    {
      "cell_type": "code",
      "metadata": {
        "id": "VXwIonM6F7th",
        "colab_type": "code",
        "colab": {}
      },
      "source": [
        "!git clone https://github.com/acmilannesta/Adult_readmission"
      ],
      "execution_count": 0,
      "outputs": []
    },
    {
      "cell_type": "code",
      "metadata": {
        "id": "HM0UNy4eGZ-b",
        "colab_type": "code",
        "colab": {}
      },
      "source": [
        "!pip install catboost"
      ],
      "execution_count": 0,
      "outputs": []
    },
    {
      "cell_type": "markdown",
      "metadata": {
        "id": "VxA0rxmizgdD",
        "colab_type": "text"
      },
      "source": [
        "**Catboost model**"
      ]
    },
    {
      "cell_type": "code",
      "metadata": {
        "id": "Mwws2tm2F5TD",
        "colab_type": "code",
        "colab": {}
      },
      "source": [
        "import os,  pandas as pd,  numpy as np, gc\n",
        "from sklearn.metrics import roc_auc_score\n",
        "from sklearn.model_selection import StratifiedKFold\n",
        "from catboost import CatBoostClassifier\n",
        "from hyperopt import fmin, hp, tpe, STATUS_OK, Trials"
      ],
      "execution_count": 0,
      "outputs": []
    },
    {
      "cell_type": "code",
      "metadata": {
        "id": "kcvTc_KrGgv1",
        "colab_type": "code",
        "colab": {}
      },
      "source": [
        "analysis = pd.read_sas('Adult_readmission//combined_vars.sas7bdat', encoding='latin1').drop('TRR_ID', axis=1)\n",
        "biomarker = pd.read_csv('Adult_readmission/feature_extracted.csv').drop('CODE_REHOSP', 1)\n",
        "X = analysis.merge(biomarker, on='PERSON_ID').drop(['CODE_REHOSP', 'PERSON_ID'], 1)\n",
        "y = analysis['CODE_REHOSP'].replace(2, 0)\n",
        "cat_colidx = [X.columns.get_loc(col) for col in X.columns if X[col].nunique() <= 10]"
      ],
      "execution_count": 0,
      "outputs": []
    },
    {
      "cell_type": "code",
      "metadata": {
        "id": "AeJ9HsYYGlxG",
        "colab_type": "code",
        "colab": {}
      },
      "source": [
        "for col in cat_colidx:\n",
        "    if X[X.columns[col]].dtype == 'float64':\n",
        "        X[X.columns[col]] = X[X.columns[col]].fillna(-1).astype(int)\n",
        "    else:\n",
        "        X[X.columns[col]] = X[X.columns[col]].fillna('')"
      ],
      "execution_count": 0,
      "outputs": []
    },
    {
      "cell_type": "code",
      "metadata": {
        "id": "mSEO3eJlGn8M",
        "colab_type": "code",
        "colab": {}
      },
      "source": [
        "cbc_params = {\n",
        "    'max_depth': hp.choice('max_depth', np.arange(2, 11)),\n",
        "    'l2_leaf_reg': hp.uniform('l2_leaf_reg', 0, 100),\n",
        "#     'colsample_bylevel': hp.uniform('colsample_bylevel', 0.1, 1),\n",
        "    'subsample': hp.uniform('subsample', 0.1, 1),\n",
        "    'eta': hp.uniform('eta', 0.01, 0.1)\n",
        "}"
      ],
      "execution_count": 0,
      "outputs": []
    },
    {
      "cell_type": "code",
      "metadata": {
        "id": "-zKHmwGIGtcR",
        "colab_type": "code",
        "colab": {}
      },
      "source": [
        "def f_cbc(params):\n",
        "    kfold = StratifiedKFold(5, True, 2019)\n",
        "    auc = np.zeros(kfold.get_n_splits())\n",
        "    cbc_pred = np.zeros(len(X))\n",
        "    cbc = CatBoostClassifier(\n",
        "        **params,\n",
        "        n_estimators=2000,\n",
        "        random_state=2019,\n",
        "        eval_metric='AUC',\n",
        "        cat_features=cat_colidx,\n",
        "        silent=True,\n",
        "        one_hot_max_size=2,\n",
        "        bootstrap_type='Bernoulli',\n",
        "        boosting_type='Plain',\n",
        "        task_type='GPU',\n",
        "    )\n",
        "    for i, (tr_idx, val_idx) in enumerate(kfold.split(X, y)):\n",
        "        clf = cbc.fit(X.iloc[tr_idx], \n",
        "                      y[tr_idx], \n",
        "                      use_best_model=True,\n",
        "                      eval_set=(X.iloc[val_idx], y[val_idx]),\n",
        "                      early_stopping_rounds=100,\n",
        "                      verbose_eval=False)\n",
        "        cbc_pred[val_idx] = clf.predict_proba(X.iloc[val_idx])[:, 1]\n",
        "        auc[i] = roc_auc_score(y[val_idx], cbc_pred[val_idx])\n",
        "        del clf\n",
        "        gc.collect()\n",
        "        # print(\"Mean AUC(%g|%g): %.5f\" %(i, kfold.get_n_splits(), np.sum(auc)/i))\n",
        "    return {'loss': -np.mean(auc).round(5), 'status': STATUS_OK}\n",
        "\n",
        "trials = Trials()\n",
        "cbc_best = fmin(f_cbc, cbc_params, algo=tpe.suggest, rstate=np.random.RandomState(2019), max_evals=100, trials=trials)"
      ],
      "execution_count": 0,
      "outputs": []
    },
    {
      "cell_type": "markdown",
      "metadata": {
        "id": "FEQEHc6CmYcA",
        "colab_type": "text"
      },
      "source": [
        "**LGBM model**"
      ]
    },
    {
      "cell_type": "code",
      "metadata": {
        "id": "KiP8b_skKDO3",
        "colab_type": "code",
        "colab": {}
      },
      "source": [
        "!pip uninstall lightgbm\n",
        "!pip install lightgbm --install-option=--gpu"
      ],
      "execution_count": 0,
      "outputs": []
    },
    {
      "cell_type": "code",
      "metadata": {
        "id": "VyQo_4OmzquN",
        "colab_type": "code",
        "colab": {}
      },
      "source": [
        "import os,  pandas as pd,  numpy as np, gc\n",
        "from sklearn.metrics import roc_auc_score\n",
        "from sklearn.model_selection import StratifiedKFold\n",
        "from hyperopt import fmin, hp, tpe, STATUS_OK, Trials\n",
        "from sklearn.preprocessing import LabelEncoder\n",
        "import lightgbm as lgbm\n",
        "import warnings\n",
        "warnings.filterwarnings(\"ignore\")"
      ],
      "execution_count": 0,
      "outputs": []
    },
    {
      "cell_type": "code",
      "metadata": {
        "id": "G9_tmQRamX9W",
        "colab_type": "code",
        "colab": {}
      },
      "source": [
        "analysis = pd.read_sas('Adult_readmission//combined_vars.sas7bdat', encoding='latin1').drop('TRR_ID', axis=1)\n",
        "biomarker = pd.read_csv('Adult_readmission/feature_extracted.csv').drop('CODE_REHOSP', 1)\n",
        "X = analysis.merge(biomarker, on='PERSON_ID').drop(['CODE_REHOSP', 'PERSON_ID'], 1)\n",
        "y = analysis['CODE_REHOSP'].replace(2, 0)\n",
        "cat_col = [X.columns.get_loc(col) for col in X.columns if 2 <= X[col].nunique() <= 10]\n",
        "for col in X.columns:\n",
        "    if X[col].dtype == 'O':\n",
        "        X[col] = LabelEncoder().fit_transform(X[col].fillna('Unknown'))\n",
        "    elif 2 < X[col].nunique() <= 10:\n",
        "        X[col] = LabelEncoder().fit_transform(X[col].fillna(99))"
      ],
      "execution_count": 0,
      "outputs": []
    },
    {
      "cell_type": "code",
      "metadata": {
        "id": "7exawZEqzVEn",
        "colab_type": "code",
        "colab": {
          "base_uri": "https://localhost:8080/",
          "height": 35
        },
        "outputId": "3ce147f1-f3bd-448b-fc9c-7990b83014f7"
      },
      "source": [
        "lgbm_param = {\n",
        "        'num_leaves': hp.choice('num_leaves', np.arange(2, 21)),\n",
        "        'learning_rate': hp.uniform('learning_rate', 0.005, 0.1),\n",
        "        'feature_fraction': hp.uniform('feature_fraction', 0.01, 0.5),\n",
        "        'max_depth': hp.choice('max_depth', np.arange(2, 11)),\n",
        "        'objective': 'binary',\n",
        "        'boosting_type': 'gbdt',\n",
        "        'metric': 'auc',\n",
        "        'verbose': -1,\n",
        "       'device_type': 'gpu'\n",
        "    }\n",
        "\n",
        "def f_lgbm(params):\n",
        "    lgbm_pred = np.zeros((len(X), ))\n",
        "    auc = np.zeros(5)\n",
        "    for i, (tr_idx, te_idx) in enumerate(StratifiedKFold(5, True, 2019).split(X, y)):\n",
        "        tr_data = lgbm.Dataset(X.values[tr_idx], y.ravel()[tr_idx], categorical_feature=cat_col)\n",
        "        te_data = lgbm.Dataset(X.values[te_idx], y.ravel()[te_idx], categorical_feature=cat_col)\n",
        "        clf = lgbm.train(params,\n",
        "                         tr_data,\n",
        "                         num_boost_round=9999999,\n",
        "                         verbose_eval=False,\n",
        "                         valid_sets=[tr_data, te_data],\n",
        "                         early_stopping_rounds=500,\n",
        "                    )\n",
        "        lgbm_pred[te_idx] = clf.predict(X.values[te_idx], num_iteration=clf.best_iteration)\n",
        "        auc[i] = roc_auc_score(y.ravel()[te_idx], lgbm_pred[te_idx])\n",
        "        del clf\n",
        "        gc.collect()\n",
        "    return {'loss': -np.mean(auc).round(5), 'status': STATUS_OK}\n",
        "\n",
        "trials = Trials()\n",
        "lgbm_best = fmin(f_lgbm, lgbm_param, algo=tpe.suggest, rstate=np.random.RandomState(2019), max_evals=100, trials=trials)"
      ],
      "execution_count": 0,
      "outputs": [
        {
          "output_type": "stream",
          "text": [
            "  2%|▏         | 2/100 [00:47<44:35, 27.30s/it, best loss: -0.67622]"
          ],
          "name": "stdout"
        }
      ]
    }
  ]
}