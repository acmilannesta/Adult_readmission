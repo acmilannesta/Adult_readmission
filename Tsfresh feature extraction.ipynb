{
  "nbformat": 4,
  "nbformat_minor": 0,
  "metadata": {
    "colab": {
      "name": "Readmission_catboost.ipynb",
      "version": "0.3.2",
      "provenance": []
    },
    "language_info": {
      "codemirror_mode": {
        "name": "ipython",
        "version": 2
      },
      "file_extension": ".py",
      "mimetype": "text/x-python",
      "name": "python",
      "nbconvert_exporter": "python",
      "pygments_lexer": "ipython2",
      "version": "2.7.6"
    },
    "kernelspec": {
      "name": "python3",
      "display_name": "Python 3"
    },
    "accelerator": "GPU"
  },
  "cells": [
    {
      "cell_type": "code",
      "metadata": {
        "id": "VXwIonM6F7th",
        "colab_type": "code",
        "outputId": "f5a51e29-c437-43d1-8e1a-66dc813cded7",
        "colab": {
          "base_uri": "https://localhost:8080/",
          "height": 118
        }
      },
      "source": [
        "!git clone https://github.com/acmilannesta/Adult_readmission"
      ],
      "execution_count": 1,
      "outputs": [
        {
          "output_type": "stream",
          "text": [
            "Cloning into 'Adult_readmission'...\n",
            "remote: Enumerating objects: 41, done.\u001b[K\n",
            "remote: Counting objects: 100% (41/41), done.\u001b[K\n",
            "remote: Compressing objects: 100% (41/41), done.\u001b[K\n",
            "remote: Total 41 (delta 18), reused 0 (delta 0), pack-reused 0\u001b[K\n",
            "Unpacking objects: 100% (41/41), done.\n"
          ],
          "name": "stdout"
        }
      ]
    },
    {
      "cell_type": "code",
      "metadata": {
        "id": "HM0UNy4eGZ-b",
        "colab_type": "code",
        "colab": {}
      },
      "source": [
        "!pip install tsfresh\n",
        "!pip install pandas==0.22"
      ],
      "execution_count": 0,
      "outputs": []
    },
    {
      "cell_type": "code",
      "metadata": {
        "id": "Mwws2tm2F5TD",
        "colab_type": "code",
        "colab": {}
      },
      "source": [
        "import pandas as pd\n",
        "from tsfresh import extract_relevant_features, extract_features"
      ],
      "execution_count": 0,
      "outputs": []
    },
    {
      "cell_type": "code",
      "metadata": {
        "id": "kcvTc_KrGgv1",
        "colab_type": "code",
        "colab": {
          "base_uri": "https://localhost:8080/",
          "height": 34
        },
        "outputId": "5d3c8f2b-1e25-4cac-94fa-7140285400dc"
      },
      "source": [
        "lab = pd.read_csv('Adult_readmission/PA_0501.csv')\n",
        "lab['SPECIMEN_COLLECT_DT'] = pd.to_datetime(lab['SPECIMEN_COLLECT_DT'])\n",
        "y = pd.read_sas('Adult_readmission/combined_vars_04092019.sas7bdat')[['PERSON_ID', 'CODE_REHOSP']]"
      ],
      "execution_count": 4,
      "outputs": [
        {
          "output_type": "execute_result",
          "data": {
            "text/plain": [
              "(116036, 28)"
            ]
          },
          "metadata": {
            "tags": []
          },
          "execution_count": 4
        }
      ]
    },
    {
      "cell_type": "code",
      "metadata": {
        "id": "AeJ9HsYYGlxG",
        "colab_type": "code",
        "colab": {}
      },
      "source": [
        "markerlist = ['CREATININE',\n",
        "           'GLUCOSE',\n",
        "           'MAGNESIUM',\n",
        "           'CHLORIDE',\n",
        "           'ANION_GAP__BLOOD',\n",
        "           'ALKALINE_PHOSPHATASE',\n",
        "           'ALBUMIN',\n",
        "           'BUN__BLOOD_UREA_NITROGEN_',\n",
        "           'CO2',\n",
        "           'HEMATOCRIT',\n",
        "           'HEMOGLOBIN',\n",
        "           'POTASSIUM_PLASMA',\n",
        "           'SODIUM_PLASMA',\n",
        "           'UREA_CREATININE_RATIO',\n",
        "             ]\n",
        "singlemarker = ['DRUG_SCREEN', \n",
        "                'GLUCOSE_URINE_QUALITATIVE',\n",
        "                'NITRITE_URINE_QUALITATIVE', \n",
        "                'PROTEIN_URINE_QUALITATIVE',\n",
        "                'HBA1C__HEMOGLOBIN_A1C_',\n",
        "                'INDIRECT_BILIRUBIN',\n",
        "                'NON_HDL_CHOLESTEROL',\n",
        "                'PROGRAF__TACROLIMUS_',\n",
        "                'PT_RESULT',\n",
        "                'URIC_ACID',\n",
        "               ]"
      ],
      "execution_count": 0,
      "outputs": []
    },
    {
      "cell_type": "code",
      "metadata": {
        "id": "6CWz2ofOHHX9",
        "colab_type": "code",
        "outputId": "bdec7b6d-2424-4f8c-bed6-0e7cf842814f",
        "colab": {
          "base_uri": "https://localhost:8080/",
          "height": 1112
        }
      },
      "source": [
        "biomarker_extract = y['PERSON_ID'].to_frame()\n",
        "for marker in markerlist:\n",
        "  biomarker = lab[['PERSON_ID', 'SPECIMEN_COLLECT_DT', marker]].dropna().sort_values(['PERSON_ID', 'SPECIMEN_COLLECT_DT'])\n",
        "  biomarker['time'] = biomarker.groupby('PERSON_ID').cumcount()\n",
        "  y_biomarker = biomarker['PERSON_ID'].drop_duplicates().to_frame().merge(y, on='PERSON_ID', how='left')\n",
        "  y_biomarker.index=y_biomarker['PERSON_ID']  \n",
        "  f = extract_relevant_features(biomarker.drop('SPECIMEN_COLLECT_DT', 1), y_biomarker['CODE_REHOSP'], column_id='PERSON_ID', column_sort='time')\n",
        "  f['PERSON_ID'] = f.index\n",
        "  biomarker_extract = biomarker_extract.merge(f, on='PERSON_ID', how='left')"
      ],
      "execution_count": 0,
      "outputs": [
        {
          "output_type": "stream",
          "text": [
            "Feature Extraction: 100%|██████████| 5/5 [02:53<00:00, 34.37s/it]\n",
            "WARNING:tsfresh.feature_selection.relevance:Infered regression as machine learning task\n",
            "WARNING:tsfresh.feature_selection.relevance:[test_feature_significance] Feature CREATININE__change_quantiles__f_agg_\"mean\"__isabs_False__qh_0.2__ql_0.2 is constant\n",
            "WARNING:tsfresh.feature_selection.relevance:[test_feature_significance] Feature CREATININE__change_quantiles__f_agg_\"mean\"__isabs_False__qh_0.2__ql_0.4 is constant\n",
            "WARNING:tsfresh.feature_selection.relevance:[test_feature_significance] Feature CREATININE__change_quantiles__f_agg_\"mean\"__isabs_False__qh_0.2__ql_0.6 is constant\n",
            "WARNING:tsfresh.feature_selection.relevance:[test_feature_significance] Feature CREATININE__change_quantiles__f_agg_\"mean\"__isabs_False__qh_0.2__ql_0.8 is constant\n",
            "WARNING:tsfresh.feature_selection.relevance:[test_feature_significance] Feature CREATININE__change_quantiles__f_agg_\"mean\"__isabs_False__qh_0.4__ql_0.4 is constant\n",
            "WARNING:tsfresh.feature_selection.relevance:[test_feature_significance] Feature CREATININE__change_quantiles__f_agg_\"mean\"__isabs_False__qh_0.4__ql_0.6 is constant\n",
            "WARNING:tsfresh.feature_selection.relevance:[test_feature_significance] Feature CREATININE__change_quantiles__f_agg_\"mean\"__isabs_False__qh_0.4__ql_0.8 is constant\n",
            "WARNING:tsfresh.feature_selection.relevance:[test_feature_significance] Feature CREATININE__change_quantiles__f_agg_\"mean\"__isabs_False__qh_0.6__ql_0.6 is constant\n",
            "WARNING:tsfresh.feature_selection.relevance:[test_feature_significance] Feature CREATININE__change_quantiles__f_agg_\"mean\"__isabs_False__qh_0.6__ql_0.8 is constant\n",
            "WARNING:tsfresh.feature_selection.relevance:[test_feature_significance] Feature CREATININE__change_quantiles__f_agg_\"mean\"__isabs_False__qh_0.8__ql_0.8 is constant\n",
            "WARNING:tsfresh.feature_selection.relevance:[test_feature_significance] Feature CREATININE__change_quantiles__f_agg_\"mean\"__isabs_True__qh_0.2__ql_0.2 is constant\n",
            "WARNING:tsfresh.feature_selection.relevance:[test_feature_significance] Feature CREATININE__change_quantiles__f_agg_\"mean\"__isabs_True__qh_0.2__ql_0.4 is constant\n",
            "WARNING:tsfresh.feature_selection.relevance:[test_feature_significance] Feature CREATININE__change_quantiles__f_agg_\"mean\"__isabs_True__qh_0.2__ql_0.6 is constant\n",
            "WARNING:tsfresh.feature_selection.relevance:[test_feature_significance] Feature CREATININE__change_quantiles__f_agg_\"mean\"__isabs_True__qh_0.2__ql_0.8 is constant\n",
            "WARNING:tsfresh.feature_selection.relevance:[test_feature_significance] Feature CREATININE__change_quantiles__f_agg_\"mean\"__isabs_True__qh_0.4__ql_0.4 is constant\n",
            "WARNING:tsfresh.feature_selection.relevance:[test_feature_significance] Feature CREATININE__change_quantiles__f_agg_\"mean\"__isabs_True__qh_0.4__ql_0.6 is constant\n",
            "WARNING:tsfresh.feature_selection.relevance:[test_feature_significance] Feature CREATININE__change_quantiles__f_agg_\"mean\"__isabs_True__qh_0.4__ql_0.8 is constant\n",
            "WARNING:tsfresh.feature_selection.relevance:[test_feature_significance] Feature CREATININE__change_quantiles__f_agg_\"mean\"__isabs_True__qh_0.6__ql_0.6 is constant\n",
            "WARNING:tsfresh.feature_selection.relevance:[test_feature_significance] Feature CREATININE__change_quantiles__f_agg_\"mean\"__isabs_True__qh_0.6__ql_0.8 is constant\n",
            "WARNING:tsfresh.feature_selection.relevance:[test_feature_significance] Feature CREATININE__change_quantiles__f_agg_\"mean\"__isabs_True__qh_0.8__ql_0.8 is constant\n",
            "WARNING:tsfresh.feature_selection.relevance:[test_feature_significance] Feature CREATININE__change_quantiles__f_agg_\"var\"__isabs_False__qh_0.2__ql_0.2 is constant\n",
            "WARNING:tsfresh.feature_selection.relevance:[test_feature_significance] Feature CREATININE__change_quantiles__f_agg_\"var\"__isabs_False__qh_0.2__ql_0.4 is constant\n",
            "WARNING:tsfresh.feature_selection.relevance:[test_feature_significance] Feature CREATININE__change_quantiles__f_agg_\"var\"__isabs_False__qh_0.2__ql_0.6 is constant\n",
            "WARNING:tsfresh.feature_selection.relevance:[test_feature_significance] Feature CREATININE__change_quantiles__f_agg_\"var\"__isabs_False__qh_0.2__ql_0.8 is constant\n",
            "WARNING:tsfresh.feature_selection.relevance:[test_feature_significance] Feature CREATININE__change_quantiles__f_agg_\"var\"__isabs_False__qh_0.4__ql_0.4 is constant\n",
            "WARNING:tsfresh.feature_selection.relevance:[test_feature_significance] Feature CREATININE__change_quantiles__f_agg_\"var\"__isabs_False__qh_0.4__ql_0.6 is constant\n",
            "WARNING:tsfresh.feature_selection.relevance:[test_feature_significance] Feature CREATININE__change_quantiles__f_agg_\"var\"__isabs_False__qh_0.4__ql_0.8 is constant\n",
            "WARNING:tsfresh.feature_selection.relevance:[test_feature_significance] Feature CREATININE__change_quantiles__f_agg_\"var\"__isabs_False__qh_0.6__ql_0.6 is constant\n",
            "WARNING:tsfresh.feature_selection.relevance:[test_feature_significance] Feature CREATININE__change_quantiles__f_agg_\"var\"__isabs_False__qh_0.6__ql_0.8 is constant\n",
            "WARNING:tsfresh.feature_selection.relevance:[test_feature_significance] Feature CREATININE__change_quantiles__f_agg_\"var\"__isabs_False__qh_0.8__ql_0.8 is constant\n",
            "WARNING:tsfresh.feature_selection.relevance:[test_feature_significance] Feature CREATININE__change_quantiles__f_agg_\"var\"__isabs_True__qh_0.2__ql_0.2 is constant\n",
            "WARNING:tsfresh.feature_selection.relevance:[test_feature_significance] Feature CREATININE__change_quantiles__f_agg_\"var\"__isabs_True__qh_0.2__ql_0.4 is constant\n",
            "WARNING:tsfresh.feature_selection.relevance:[test_feature_significance] Feature CREATININE__change_quantiles__f_agg_\"var\"__isabs_True__qh_0.2__ql_0.6 is constant\n",
            "WARNING:tsfresh.feature_selection.relevance:[test_feature_significance] Feature CREATININE__change_quantiles__f_agg_\"var\"__isabs_True__qh_0.2__ql_0.8 is constant\n",
            "WARNING:tsfresh.feature_selection.relevance:[test_feature_significance] Feature CREATININE__change_quantiles__f_agg_\"var\"__isabs_True__qh_0.4__ql_0.4 is constant\n",
            "WARNING:tsfresh.feature_selection.relevance:[test_feature_significance] Feature CREATININE__change_quantiles__f_agg_\"var\"__isabs_True__qh_0.4__ql_0.6 is constant\n",
            "WARNING:tsfresh.feature_selection.relevance:[test_feature_significance] Feature CREATININE__change_quantiles__f_agg_\"var\"__isabs_True__qh_0.4__ql_0.8 is constant\n",
            "WARNING:tsfresh.feature_selection.relevance:[test_feature_significance] Feature CREATININE__change_quantiles__f_agg_\"var\"__isabs_True__qh_0.6__ql_0.6 is constant\n",
            "WARNING:tsfresh.feature_selection.relevance:[test_feature_significance] Feature CREATININE__change_quantiles__f_agg_\"var\"__isabs_True__qh_0.6__ql_0.8 is constant\n",
            "WARNING:tsfresh.feature_selection.relevance:[test_feature_significance] Feature CREATININE__change_quantiles__f_agg_\"var\"__isabs_True__qh_0.8__ql_0.8 is constant\n",
            "WARNING:tsfresh.feature_selection.relevance:[test_feature_significance] Feature CREATININE__fft_coefficient__coeff_0__attr_\"angle\" is constant\n",
            "WARNING:tsfresh.feature_selection.relevance:[test_feature_significance] Feature CREATININE__fft_coefficient__coeff_0__attr_\"imag\" is constant\n",
            "WARNING:tsfresh.feature_selection.relevance:[test_feature_significance] Feature CREATININE__large_standard_deviation__r_0.5 is constant\n",
            "WARNING:tsfresh.feature_selection.relevance:[test_feature_significance] Feature CREATININE__large_standard_deviation__r_0.55 is constant\n",
            "WARNING:tsfresh.feature_selection.relevance:[test_feature_significance] Feature CREATININE__large_standard_deviation__r_0.6000000000000001 is constant\n",
            "WARNING:tsfresh.feature_selection.relevance:[test_feature_significance] Feature CREATININE__large_standard_deviation__r_0.65 is constant\n",
            "WARNING:tsfresh.feature_selection.relevance:[test_feature_significance] Feature CREATININE__large_standard_deviation__r_0.7000000000000001 is constant\n",
            "WARNING:tsfresh.feature_selection.relevance:[test_feature_significance] Feature CREATININE__large_standard_deviation__r_0.75 is constant\n",
            "WARNING:tsfresh.feature_selection.relevance:[test_feature_significance] Feature CREATININE__large_standard_deviation__r_0.8 is constant\n",
            "WARNING:tsfresh.feature_selection.relevance:[test_feature_significance] Feature CREATININE__large_standard_deviation__r_0.8500000000000001 is constant\n",
            "WARNING:tsfresh.feature_selection.relevance:[test_feature_significance] Feature CREATININE__large_standard_deviation__r_0.9 is constant\n",
            "WARNING:tsfresh.feature_selection.relevance:[test_feature_significance] Feature CREATININE__large_standard_deviation__r_0.9500000000000001 is constant\n",
            "WARNING:tsfresh.feature_selection.relevance:[test_feature_significance] Feature CREATININE__number_crossing_m__m_-1 is constant\n",
            "WARNING:tsfresh.feature_selection.relevance:[test_feature_significance] Feature CREATININE__partial_autocorrelation__lag_0 is constant\n",
            "WARNING:tsfresh.feature_selection.relevance:[test_feature_significance] Feature CREATININE__range_count__max_0__min_1000000000000.0 is constant\n",
            "WARNING:tsfresh.feature_selection.relevance:[test_feature_significance] Feature CREATININE__ratio_beyond_r_sigma__r_10 is constant\n",
            "WARNING:tsfresh.feature_selection.relevance:[test_feature_significance] Feature CREATININE__ratio_beyond_r_sigma__r_7 is constant\n",
            "WARNING:tsfresh.feature_selection.relevance:[test_feature_significance] Feature CREATININE__symmetry_looking__r_0.0 is constant\n",
            "WARNING:tsfresh.feature_selection.relevance:[test_feature_significance] Feature CREATININE__value_count__value_-1 is constant\n",
            "WARNING:tsfresh.feature_selection.significance_tests:[target_binary_feature_binary_test] A binary feature should have only values 1 and 0 (incl. True and False). Instead found {0.0, 2.0} in feature ''CREATININE__number_crossing_m__m_0''.\n",
            "WARNING:tsfresh.feature_selection.significance_tests:[target_binary_feature_binary_test] A binary feature should have only values 1 and 0 (incl. True and False). Instead found {0.0, 0.021739130434782608} in feature ''CREATININE__ratio_beyond_r_sigma__r_6''.\n",
            "Feature Extraction:  60%|██████    | 3/5 [02:16<01:32, 46.27s/it]"
          ],
          "name": "stderr"
        }
      ]
    },
    {
      "cell_type": "code",
      "metadata": {
        "id": "JVcaDNyoI6N9",
        "colab_type": "code",
        "colab": {}
      },
      "source": [
        "for marker in singlemarker:\n",
        "    tmp = lab[['PERSON_ID', marker]].dropna()\n",
        "    assert(tmp.drop_duplicates().shape[0] == tmp.shape[0])\n",
        "    biomarker_extract = biomarker_extract.merge(tmp, on='PERSON_ID', how='left')"
      ],
      "execution_count": 0,
      "outputs": []
    }
  ]
}