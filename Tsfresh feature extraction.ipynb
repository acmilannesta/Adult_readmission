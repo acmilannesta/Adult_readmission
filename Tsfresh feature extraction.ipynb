{
  "nbformat": 4,
  "nbformat_minor": 0,
  "metadata": {
    "colab": {
      "name": "Readmission_catboost.ipynb",
      "version": "0.3.2",
      "provenance": []
    },
    "language_info": {
      "codemirror_mode": {
        "name": "ipython",
        "version": 2
      },
      "file_extension": ".py",
      "mimetype": "text/x-python",
      "name": "python",
      "nbconvert_exporter": "python",
      "pygments_lexer": "ipython2",
      "version": "2.7.6"
    },
    "kernelspec": {
      "name": "python3",
      "display_name": "Python 3"
    },
    "accelerator": "GPU"
  },
  "cells": [
    {
      "cell_type": "code",
      "metadata": {
        "id": "VXwIonM6F7th",
        "colab_type": "code",
        "colab": {}
      },
      "source": [
        "!git clone https://github.com/acmilannesta/Adult_readmission"
      ],
      "execution_count": 0,
      "outputs": []
    },
    {
      "cell_type": "code",
      "metadata": {
        "id": "HM0UNy4eGZ-b",
        "colab_type": "code",
        "colab": {}
      },
      "source": [
        "!pip install tsfresh\n",
        "!pip install pandas==0.22"
      ],
      "execution_count": 0,
      "outputs": []
    },
    {
      "cell_type": "code",
      "metadata": {
        "id": "Mwws2tm2F5TD",
        "colab_type": "code",
        "colab": {}
      },
      "source": [
        "import pandas as pd\n",
        "from tsfresh import extract_relevant_features, extract_features"
      ],
      "execution_count": 0,
      "outputs": []
    },
    {
      "cell_type": "code",
      "metadata": {
        "id": "kcvTc_KrGgv1",
        "colab_type": "code",
        "colab": {
          "base_uri": "https://localhost:8080/",
          "height": 34
        },
        "outputId": "5d3c8f2b-1e25-4cac-94fa-7140285400dc"
      },
      "source": [
        "lab = pd.read_csv('Adult_readmission/PA_0501.csv')\n",
        "lab['SPECIMEN_COLLECT_DT'] = pd.to_datetime(lab['SPECIMEN_COLLECT_DT'])\n",
        "y = pd.read_sas('Adult_readmission/combined_vars_04092019.sas7bdat')[['PERSON_ID', 'CODE_REHOSP']]"
      ],
      "execution_count": 4,
      "outputs": [
        {
          "output_type": "execute_result",
          "data": {
            "text/plain": [
              "(116036, 28)"
            ]
          },
          "metadata": {
            "tags": []
          },
          "execution_count": 4
        }
      ]
    },
    {
      "cell_type": "markdown",
      "metadata": {
        "id": "B1eCEQqHJ4eN",
        "colab_type": "text"
      },
      "source": [
        "**Biomarker list created**\n",
        "\n",
        "\"markerlist\": biomarkers with multiple time points\n",
        "\n",
        "'singlemarker': biomarkers with the last time point taken before transplantation"
      ]
    },
    {
      "cell_type": "code",
      "metadata": {
        "id": "AeJ9HsYYGlxG",
        "colab_type": "code",
        "colab": {}
      },
      "source": [
        "markerlist = ['CREATININE',\n",
        "           'GLUCOSE',\n",
        "           'MAGNESIUM',\n",
        "           'CHLORIDE',\n",
        "           'ANION_GAP__BLOOD',\n",
        "           'ALKALINE_PHOSPHATASE',\n",
        "           'ALBUMIN',\n",
        "           'BUN__BLOOD_UREA_NITROGEN_',\n",
        "           'CO2',\n",
        "           'HEMATOCRIT',\n",
        "           'HEMOGLOBIN',\n",
        "           'POTASSIUM_PLASMA',\n",
        "           'SODIUM_PLASMA',\n",
        "           'UREA_CREATININE_RATIO',\n",
        "             ]\n",
        "singlemarker = ['DRUG_SCREEN', \n",
        "                'GLUCOSE_URINE_QUALITATIVE',\n",
        "                'NITRITE_URINE_QUALITATIVE', \n",
        "                'PROTEIN_URINE_QUALITATIVE',\n",
        "                'HBA1C__HEMOGLOBIN_A1C_',\n",
        "                'INDIRECT_BILIRUBIN',\n",
        "                'NON_HDL_CHOLESTEROL',\n",
        "                'PROGRAF__TACROLIMUS_',\n",
        "                'PT_RESULT',\n",
        "                'URIC_ACID',\n",
        "               ]"
      ],
      "execution_count": 0,
      "outputs": []
    },
    {
      "cell_type": "code",
      "metadata": {
        "id": "6CWz2ofOHHX9",
        "colab_type": "code",
        "colab": {}
      },
      "source": [
        "biomarker_extract = y['PERSON_ID'].to_frame()\n",
        "for marker in markerlist:\n",
        "  biomarker = lab[['PERSON_ID', 'SPECIMEN_COLLECT_DT', marker]].dropna().sort_values(['PERSON_ID', 'SPECIMEN_COLLECT_DT'])\n",
        "  biomarker['time'] = biomarker.groupby('PERSON_ID').cumcount()\n",
        "  y_biomarker = biomarker['PERSON_ID'].drop_duplicates().to_frame().merge(y, on='PERSON_ID', how='left')\n",
        "  y_biomarker.index=y_biomarker['PERSON_ID']  \n",
        "  f = extract_relevant_features(biomarker.drop('SPECIMEN_COLLECT_DT', 1), y_biomarker['CODE_REHOSP'], column_id='PERSON_ID', column_sort='time')\n",
        "  f['PERSON_ID'] = f.index\n",
        "  biomarker_extract = biomarker_extract.merge(f, on='PERSON_ID', how='left')"
      ],
      "execution_count": 0,
      "outputs": []
    },
    {
      "cell_type": "code",
      "metadata": {
        "id": "JVcaDNyoI6N9",
        "colab_type": "code",
        "colab": {}
      },
      "source": [
        "for marker in singlemarker:\n",
        "    tmp = lab[['PERSON_ID', marker]].dropna()\n",
        "    assert(tmp.drop_duplicates().shape[0] == tmp.shape[0])\n",
        "    biomarker_extract = biomarker_extract.merge(tmp, on='PERSON_ID', how='left')"
      ],
      "execution_count": 0,
      "outputs": []
    },
    {
      "cell_type": "code",
      "metadata": {
        "id": "PMHHPoUbKM2n",
        "colab_type": "code",
        "colab": {}
      },
      "source": [
        "biomarker_extract.to_csv('Adult_readmission/feature_extracted.csv', index=False)"
      ],
      "execution_count": 0,
      "outputs": []
    }
  ]
}