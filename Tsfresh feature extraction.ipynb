{
  "nbformat": 4,
  "nbformat_minor": 0,
  "metadata": {
    "colab": {
      "name": "Readmission_catboost.ipynb",
      "version": "0.3.2",
      "provenance": []
    },
    "language_info": {
      "codemirror_mode": {
        "name": "ipython",
        "version": 2
      },
      "file_extension": ".py",
      "mimetype": "text/x-python",
      "name": "python",
      "nbconvert_exporter": "python",
      "pygments_lexer": "ipython2",
      "version": "2.7.6"
    },
    "kernelspec": {
      "name": "python3",
      "display_name": "Python 3"
    },
    "accelerator": "GPU"
  },
  "cells": [
    {
      "cell_type": "code",
      "metadata": {
        "id": "VXwIonM6F7th",
        "colab_type": "code",
        "outputId": "3fc938c0-0fc2-416c-abf9-de34b0c85dc6",
        "colab": {
          "base_uri": "https://localhost:8080/",
          "height": 118
        }
      },
      "source": [
        "!git clone https://github.com/acmilannesta/Adult_readmission"
      ],
      "execution_count": 0,
      "outputs": [
        {
          "output_type": "stream",
          "text": [
            "Cloning into 'Adult_readmission'...\n",
            "remote: Enumerating objects: 52, done.\u001b[K\n",
            "remote: Counting objects: 100% (52/52), done.\u001b[K\n",
            "remote: Compressing objects: 100% (52/52), done.\u001b[K\n",
            "remote: Total 52 (delta 25), reused 0 (delta 0), pack-reused 0\u001b[K\n",
            "Unpacking objects: 100% (52/52), done.\n"
          ],
          "name": "stdout"
        }
      ]
    },
    {
      "cell_type": "code",
      "metadata": {
        "id": "HM0UNy4eGZ-b",
        "colab_type": "code",
        "colab": {}
      },
      "source": [
        "!pip install tsfresh\n",
        "!pip install pandas==0.22"
      ],
      "execution_count": 0,
      "outputs": []
    },
    {
      "cell_type": "code",
      "metadata": {
        "id": "Mwws2tm2F5TD",
        "colab_type": "code",
        "colab": {}
      },
      "source": [
        "import pandas as pd\n",
        "import  numpy as np\n",
        "from tsfresh import extract_relevant_features, extract_features"
      ],
      "execution_count": 0,
      "outputs": []
    },
    {
      "cell_type": "code",
      "metadata": {
        "id": "kcvTc_KrGgv1",
        "colab_type": "code",
        "colab": {}
      },
      "source": [
        "lab = pd.read_csv('Adult_readmission/PA_0501.csv', parse_dates=['SPECIMEN_COLLECT_DT', 'TRANSPLANT_DT', 'TRANSPLANT_DISCHARGE_DT'])\n",
        "cond1 = (lab['TRANSPLANT_DISCHARGE_DT'] >= lab['SPECIMEN_COLLECT_DT'])\n",
        "cond2 = ((lab['TRANSPLANT_DT'] - lab['SPECIMEN_COLLECT_DT']).map(lambda x: x.days) <= 365)\n",
        "cond3 = (lab['TRANSPLANT_DT'] <= lab['SPECIMEN_COLLECT_DT'])\n",
        "# lab = lab[cond1 & cond2]\n",
        "y = pd.read_sas('Adult_readmission/combined_vars_04092019.sas7bdat')[['PERSON_ID', 'CODE_REHOSP']]"
      ],
      "execution_count": 0,
      "outputs": []
    },
    {
      "cell_type": "markdown",
      "metadata": {
        "id": "B1eCEQqHJ4eN",
        "colab_type": "text"
      },
      "source": [
        "**Biomarker list created**\n",
        "\n",
        "\"markerlist\": biomarkers with multiple time points\n",
        "\n",
        "'singlemarker': biomarkers with the last time point taken before transplantation"
      ]
    },
    {
      "cell_type": "code",
      "metadata": {
        "id": "AeJ9HsYYGlxG",
        "colab_type": "code",
        "colab": {}
      },
      "source": [
        "markerlist = ['CREATININE',\n",
        "           'GLUCOSE',\n",
        "           'MAGNESIUM',\n",
        "           'CHLORIDE',\n",
        "           'ANION_GAP__BLOOD',\n",
        "           'ALKALINE_PHOSPHATASE',\n",
        "           'ALBUMIN',\n",
        "           'BUN__BLOOD_UREA_NITROGEN_',\n",
        "           'CO2',\n",
        "           'HEMATOCRIT',\n",
        "           'HEMOGLOBIN',\n",
        "           'POTASSIUM_PLASMA',\n",
        "           'SODIUM_PLASMA',\n",
        "           'UREA_CREATININE_RATIO',\n",
        "             ]\n",
        "singlemarker = ['DRUG_SCREEN', \n",
        "                'GLUCOSE_URINE_QUALITATIVE',\n",
        "                'NITRITE_URINE_QUALITATIVE', \n",
        "                'PROTEIN_URINE_QUALITATIVE',\n",
        "                'HBA1C__HEMOGLOBIN_A1C_',\n",
        "                'INDIRECT_BILIRUBIN',\n",
        "                'NON_HDL_CHOLESTEROL',\n",
        "                'PROGRAF__TACROLIMUS_',\n",
        "                'PT_RESULT',\n",
        "                'URIC_ACID',\n",
        "               ]"
      ],
      "execution_count": 0,
      "outputs": []
    },
    {
      "cell_type": "code",
      "metadata": {
        "id": "6CWz2ofOHHX9",
        "colab_type": "code",
        "colab": {}
      },
      "source": [
        "biomarker_extract = y['PERSON_ID'].to_frame()\n",
        "for marker in markerlist:\n",
        "  if marker in ['CREATININE', 'BUN__BLOOD_UREA_NITROGEN_', 'UREA_CREATININE_RATIO']:\n",
        "    biomarker = lab[cond1 & cond3][['PERSON_ID', 'SPECIMEN_COLLECT_DT', marker]].dropna().sort_values(['PERSON_ID', 'SPECIMEN_COLLECT_DT'])\n",
        "  else:\n",
        "    biomarker = lab[cond1 & cond2][['PERSON_ID', 'SPECIMEN_COLLECT_DT', marker]].dropna().sort_values(['PERSON_ID', 'SPECIMEN_COLLECT_DT'])\n",
        "  biomarker['time'] = biomarker.groupby('PERSON_ID').cumcount()\n",
        "  y_biomarker = biomarker['PERSON_ID'].drop_duplicates().to_frame().merge(y, on='PERSON_ID', how='left')\n",
        "  y_biomarker.index=y_biomarker['PERSON_ID']  \n",
        "  f = extract_relevant_features(biomarker.drop('SPECIMEN_COLLECT_DT', 1), y_biomarker['CODE_REHOSP'], column_id='PERSON_ID', column_sort='time')\n",
        "  f['PERSON_ID'] = f.index\n",
        "  biomarker_extract = biomarker_extract.merge(f, on='PERSON_ID', how='left')"
      ],
      "execution_count": 0,
      "outputs": []
    },
    {
      "cell_type": "code",
      "metadata": {
        "id": "JVcaDNyoI6N9",
        "colab_type": "code",
        "colab": {}
      },
      "source": [
        "for marker in singlemarker:\n",
        "    tmp = lab[cond1][['PERSON_ID', marker]].dropna()\n",
        "    assert(tmp.drop_duplicates().shape[0] == tmp.shape[0])\n",
        "    biomarker_extract = biomarker_extract.merge(tmp, on='PERSON_ID', how='left')"
      ],
      "execution_count": 0,
      "outputs": []
    },
    {
      "cell_type": "code",
      "metadata": {
        "id": "qk0Y8JuhDA6A",
        "colab_type": "code",
        "colab": {}
      },
      "source": [
        "singlemarker.extend(['PERSON_ID'])\n",
        "feature_retain = list(biomarker_extract.drop(singlemarker, 1).corrwith(y['CODE_REHOSP']).sort_values().iloc[np.r_[0:50, -50:0]].index)"
      ],
      "execution_count": 0,
      "outputs": []
    },
    {
      "cell_type": "code",
      "metadata": {
        "id": "0ANdxlzbbDCw",
        "colab_type": "code",
        "colab": {}
      },
      "source": [
        "from google.colab import drive\n",
        "drive.mount('/content/drive')"
      ],
      "execution_count": 0,
      "outputs": []
    },
    {
      "cell_type": "code",
      "metadata": {
        "id": "PMHHPoUbKM2n",
        "colab_type": "code",
        "colab": {}
      },
      "source": [
        "singlemarker.extend(feature_retain)\n",
        "biomarker_extract[singlemarker].to_csv('drive/My Drive/Adult readmission/feature_extracted_365days.csv', index=False)"
      ],
      "execution_count": 0,
      "outputs": []
    }
  ]
}